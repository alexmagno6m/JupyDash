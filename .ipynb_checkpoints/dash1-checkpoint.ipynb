{
 "cells": [
  {
   "cell_type": "code",
   "execution_count": 1,
   "id": "f0b88f99",
   "metadata": {},
   "outputs": [
    {
     "data": {
      "text/html": [
       "\n",
       "        <iframe\n",
       "            width=\"100%\"\n",
       "            height=\"650\"\n",
       "            src=\"http://127.0.0.1:8050/\"\n",
       "            frameborder=\"0\"\n",
       "            allowfullscreen\n",
       "            \n",
       "        ></iframe>\n",
       "        "
      ],
      "text/plain": [
       "<IPython.lib.display.IFrame at 0x109820d90>"
      ]
     },
     "metadata": {},
     "output_type": "display_data"
    }
   ],
   "source": [
    "from jupyter_dash import JupyterDash\n",
    "from dash import Dash, Input, Output, callback, dash_table, html\n",
    "\n",
    "import pandas as pd\n",
    "import dash_bootstrap_components as dbc\n",
    "\n",
    "df = pd.read_csv('https://git.io/Juf1t')\n",
    "\n",
    "app = JupyterDash(__name__)\n",
    "\n",
    "app.layout = dbc.Container([\n",
    "    dbc.Label('Click a cell in the table:'),\n",
    "    dash_table.DataTable(df.to_dict('records'),[{\"name\": i, \"id\": i} for i in df.columns], id='tbl'),\n",
    "    dbc.Alert(id='tbl_out'),\n",
    "])\n",
    "\n",
    "\n",
    "\n",
    "@callback(Output('tbl_out', 'children'), Input('tbl', 'active_cell'))\n",
    "def update_graphs(active_cell):\n",
    "    return str(active_cell) if active_cell else \"Click the table\"\n",
    "\n",
    "\n",
    "app.run_server(mode='Inline')"
   ]
  },
  {
   "cell_type": "code",
   "execution_count": null,
   "id": "d3ef481a",
   "metadata": {},
   "outputs": [],
   "source": []
  }
 ],
 "metadata": {
  "kernelspec": {
   "display_name": "Python 3 (ipykernel)",
   "language": "python",
   "name": "python3"
  },
  "language_info": {
   "codemirror_mode": {
    "name": "ipython",
    "version": 3
   },
   "file_extension": ".py",
   "mimetype": "text/x-python",
   "name": "python",
   "nbconvert_exporter": "python",
   "pygments_lexer": "ipython3",
   "version": "3.8.2"
  }
 },
 "nbformat": 4,
 "nbformat_minor": 5
}
